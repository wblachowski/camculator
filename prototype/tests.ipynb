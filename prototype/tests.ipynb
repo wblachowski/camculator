{
 "cells": [
  {
   "cell_type": "markdown",
   "metadata": {},
   "source": [
    "## Symbols extracting funcions"
   ]
  },
  {
   "cell_type": "code",
   "execution_count": 2,
   "metadata": {},
   "outputs": [],
   "source": [
    "import cv2\n",
    "import os\n",
    "import math\n",
    "import matplotlib.pyplot as plt\n",
    "import numpy as np"
   ]
  },
  {
   "cell_type": "code",
   "execution_count": 4,
   "metadata": {},
   "outputs": [],
   "source": [
    "def display_plot(image, title='', cmap=None):\n",
    "    plt.figure(figsize=(15,7))\n",
    "    plt.imshow(image,cmap=cmap)\n",
    "    plt.title(title)\n",
    "    plt.show()"
   ]
  },
  {
   "cell_type": "code",
   "execution_count": 5,
   "metadata": {},
   "outputs": [],
   "source": [
    "def contains(box1,box2):\n",
    "    b1x,b1y,b1w,b1h=box1\n",
    "    b2x,b2y,b2w,b2h=box2\n",
    "    return b1x<b2x and b1y<b2y and (b1x+b1w)>(b2x+b2w) and (b1y+b1h)>(b2y+b2h)"
   ]
  },
  {
   "cell_type": "code",
   "execution_count": 6,
   "metadata": {},
   "outputs": [],
   "source": [
    "def process_img(org_img, display=False):\n",
    "    img = org_img.copy()\n",
    "    img_height = img.shape[0]\n",
    "    img_width = img.shape[1]\n",
    "\n",
    "    if display:\n",
    "        display_plot(img,'Original image',None)\n",
    "\n",
    "\n",
    "    #Convert to grayscale and denoise\n",
    "    img = cv2.cvtColor(img, cv2.COLOR_BGR2GRAY)\n",
    "    img = cv2.fastNlMeansDenoising(img,h=13)\n",
    "    if display:\n",
    "        display_plot(img,'Grayscale and denoised','gray')\n",
    "\n",
    "    #Binarize image\n",
    "    block_size = max(img_height,img_width)//7\n",
    "    block_size = block_size+1 if block_size%2==0 else block_size \n",
    "    img = cv2.adaptiveThreshold(img,255,cv2.ADAPTIVE_THRESH_GAUSSIAN_C ,cv2.THRESH_BINARY,block_size,5)\n",
    "    if display:\n",
    "        display_plot(img,'With binary threshold applied','gray')\n",
    "        \n",
    "    #Morphological opening\n",
    "    kernel_size = max(img_height,img_width)//100//5\n",
    "    img = cv2.morphologyEx(img, cv2.MORPH_OPEN,  cv2.getStructuringElement(cv2.MORPH_ELLIPSE,(kernel_size,kernel_size)))\n",
    "    if display:\n",
    "        display_plot(img,'With Morphological opening','gray')\n",
    "    img_binary = img.copy()\n",
    "        \n",
    "    #Find contours\n",
    "    contours, hierarchy = cv2.findContours(img, cv2.RETR_TREE, cv2.CHAIN_APPROX_SIMPLE)\n",
    "    if display:\n",
    "        img_contours = cv2.drawContours(img, contours, -1, (0,255,0), 3)\n",
    "        display_plot(img_contours, 'Contours' , 'gray')\n",
    "    \n",
    "    #Add limit to bounding boxes size\n",
    "    img_size = img_height*img_width\n",
    "    max_area=0.5*img_size\n",
    "\n",
    "    #Find bounding boxes\n",
    "    boxes=[]\n",
    "    for contour in contours:\n",
    "        x,y,w,h = cv2.boundingRect(contour)\n",
    "        if max_area>(w*h):\n",
    "            boxes.append((x,y,w,h))\n",
    "    \n",
    "    #Remove boxes wholly contained in other boxes\n",
    "    for box1 in boxes.copy():\n",
    "        for box2 in boxes.copy():\n",
    "            if contains(box2,box1):\n",
    "                if box1 in boxes:\n",
    "                    boxes.remove(box1)\n",
    "    \n",
    "    #sort boxes horizontally\n",
    "    boxes = sorted(boxes, key=lambda b: b[0])\n",
    "    \n",
    "    img_boxes = org_img.copy()\n",
    "    for box in boxes:\n",
    "        x,y,w,h=box\n",
    "        cv2.rectangle(img_boxes,(x,y),(x+w,y+h),(0,255,0),2)\n",
    "    if display:\n",
    "        display_plot(img_boxes,'Bounding boxes', 'gray')\n",
    "        \n",
    "    return img_boxes, img_binary, boxes"
   ]
  },
  {
   "cell_type": "code",
   "execution_count": 7,
   "metadata": {},
   "outputs": [],
   "source": [
    "def extract_symbols(img, boxes, size=28):\n",
    "    symbols=[]\n",
    "    for box in boxes:\n",
    "        x,y,w,h=box\n",
    "        symbol = img[y:y+h,x:x+w]\n",
    "        if h>=w:\n",
    "            newx = size*w//h\n",
    "            if newx == 0:\n",
    "                break\n",
    "            symbol = cv2.resize(symbol,(newx,size))\n",
    "            rest = size-newx\n",
    "            rest_left = int(math.ceil(rest/2))\n",
    "            rest_right = int(math.floor(rest/2))\n",
    "            symbol = np.hstack((np.full((size,rest_left),255),symbol,np.full((size,rest_right),255)))\n",
    "        else:\n",
    "            newy = size*h//w\n",
    "            if newy == 0:\n",
    "                break\n",
    "            symbol = cv2.resize(symbol,(size,newy))\n",
    "            rest = size-newy\n",
    "            rest_up = int(math.ceil(rest/2))\n",
    "            rest_down = int(math.floor(rest/2))\n",
    "            symbol = np.vstack((np.full((rest_up,size),255),symbol,np.full((rest_down,size),255)))\n",
    "        symbols.append(symbol)\n",
    "    return symbols"
   ]
  },
  {
   "cell_type": "markdown",
   "metadata": {},
   "source": [
    "## Test single image"
   ]
  },
  {
   "cell_type": "code",
   "execution_count": null,
   "metadata": {},
   "outputs": [],
   "source": [
    "img = cv2.imread('data/equations/12.png')\n",
    "img_boxes,img_binary,boxes = process_img(img, True)\n",
    "symbols = extract_symbols(img_binary,boxes)\n",
    "\n",
    "plt.imshow(img)\n",
    "plt.title('Original image')\n",
    "plt.show()\n",
    "\n",
    "for i,symbol in enumerate(symbols):\n",
    "    plt.subplot(1, len(symbols), i+1)\n",
    "    plt.axis('off')\n",
    "    plt.imshow(symbol,cmap='gray')\n",
    "plt.show()"
   ]
  },
  {
   "cell_type": "markdown",
   "metadata": {},
   "source": [
    "## Tests for whole set"
   ]
  },
  {
   "cell_type": "code",
   "execution_count": null,
   "metadata": {},
   "outputs": [],
   "source": [
    "#Tests for whole set\n",
    "DIR = 'data/equations'\n",
    "for file in os.listdir(DIR):\n",
    "    file=f'{DIR}/{file}'\n",
    "    img = cv2.imread(file)\n",
    "    plt.figure(figsize=(15,7))\n",
    "    plt.subplot(1, 2, 1)\n",
    "    plt.imshow(img)\n",
    "    plt.title(file)\n",
    "    img_boxes, img_binary, boxes = process_img(img)\n",
    "    plt.subplot(1, 2, 2)\n",
    "    plt.imshow(img_binary, cmap='gray')\n",
    "    plt.show()"
   ]
  },
  {
   "cell_type": "markdown",
   "metadata": {},
   "source": [
    "## Create intermediate imgs from swilk dataset"
   ]
  },
  {
   "cell_type": "code",
   "execution_count": null,
   "metadata": {},
   "outputs": [],
   "source": [
    "DIR = 'TP-data' #Input directory\n",
    "INT_DIR='intermediate' #Output directory\n",
    "locations={\n",
    "    'z':(5505,260,2550,300),\n",
    "    'y':(5505,265,2150,300),\n",
    "    'x':(5490,260,1730,300),\n",
    "    'w':(5490,260,1280,300),\n",
    "    'minus':(2620,200,1740,300),\n",
    "    'plus':(2620,240,1320,300),\n",
    "    'dot':(2620,180,500,300),\n",
    "    '9':(2015,270,4250,280),\n",
    "    '8':(2015,250,3880,280),\n",
    "    '7':(2015,250,3450,280),\n",
    "    '6':(2025,250,3000,280),\n",
    "    '5':(2015,270,2580,280),\n",
    "    '4':(2005,270,2150,280),\n",
    "    '3':(2005,270,1740,280),\n",
    "    '2':(2015,245,1320,300),\n",
    "    '1':(2015,255,890,300),\n",
    "    '0':(2015,255,500,300)\n",
    "}\n",
    "for file_name in os.listdir(DIR):\n",
    "    file=f'{DIR}/{file_name}'\n",
    "    img = cv2.imread(file)\n",
    "    for symbol, loc in locations.items():\n",
    "        y,h,x,w=loc\n",
    "        sym_img=img[y:y+h,x:x+w]\n",
    "        cv2.imwrite(f'{INT_DIR}/{symbol}-{file_name}.png',sym_img)"
   ]
  },
  {
   "cell_type": "markdown",
   "metadata": {},
   "source": [
    "## Exract symbols based on previous steps. Manual removal of some garbage output may be necessary"
   ]
  },
  {
   "cell_type": "code",
   "execution_count": null,
   "metadata": {},
   "outputs": [],
   "source": [
    "DIR = 'intermediate' #Input directory\n",
    "OUT_DIR ='final' #Output directory\n",
    "\n",
    "symbols_count_map={}\n",
    "\n",
    "for file_name in os.listdir(DIR):\n",
    "    symbol_name=file_name.split('-')[0]\n",
    "    file=f'{DIR}/{file_name}'\n",
    "    img=cv2.imread(file)\n",
    "    img_boxes,img_binary,boxes = process_img(img)\n",
    "    symbols = extract_symbols(img_binary,boxes)\n",
    "    for symbol in symbols:\n",
    "        count = symbols_count_map.get(symbol_name,0)\n",
    "        cv2.imwrite(f'{OUT_DIR}/{symbol_name}-{count}.png',symbol)\n",
    "        symbols_count_map[symbol_name]=count+1\n",
    "        "
   ]
  },
  {
   "cell_type": "markdown",
   "metadata": {},
   "source": [
    "## Add additional data to output based on images of a single symbol"
   ]
  },
  {
   "cell_type": "code",
   "execution_count": 8,
   "metadata": {},
   "outputs": [
    {
     "name": "stdout",
     "output_type": "stream",
     "text": [
      "0\n",
      "1\n",
      "2\n",
      "2\n",
      "3\n",
      "3\n",
      "4\n",
      "5\n",
      "6\n",
      "6\n",
      "7\n",
      "8\n",
      "9\n",
      "9\n",
      "dot\n",
      "minus\n",
      "plus\n",
      "plus\n",
      "slash\n",
      "w\n",
      "x\n",
      "y\n",
      "z\n",
      "z\n"
     ]
    }
   ],
   "source": [
    "from itertools import groupby\n",
    "\n",
    "IN_DIR = 'data/extra-data' #Input directory\n",
    "OUT_CUR = 'data/symbols' #Curent output (needed for max index caluclation)\n",
    "OUT_DIR = 'data/symbols-tmp' #Output directory\n",
    "\n",
    "#Get current max indexes of items\n",
    "current_maxes={}\n",
    "out_dir_files = list(map(lambda x: (x.split('.')[0].split('-')[0], int(x.split('.')[0].split('-')[1])),os.listdir(OUT_CUR)))\n",
    "for k, g in groupby(out_dir_files, lambda x: x[0]):\n",
    "    current_maxes[k]=max(list(g),key=lambda x: x[1])[1]\n",
    "\n",
    "for file_name in os.listdir(IN_DIR):\n",
    "    symbol_name=file_name.split('.')[0].split('-')[0]\n",
    "    print(symbol_name)\n",
    "    i = current_maxes[symbol_name]+1\n",
    "    \n",
    "    img = cv2.imread(f'{IN_DIR}/{file_name}')\n",
    "    img_boxes,img_binary,boxes = process_img(img)\n",
    "    symbols = extract_symbols(img_binary,boxes)\n",
    "    for symbol in symbols:\n",
    "        cv2.imwrite(f'{OUT_DIR}/{symbol_name}-{i}.png',symbol)\n",
    "        i+=1\n",
    "    current_maxes[symbol_name]=i\n"
   ]
  }
 ],
 "metadata": {
  "kernelspec": {
   "display_name": "Python 3",
   "language": "python",
   "name": "python3"
  },
  "language_info": {
   "codemirror_mode": {
    "name": "ipython",
    "version": 3
   },
   "file_extension": ".py",
   "mimetype": "text/x-python",
   "name": "python",
   "nbconvert_exporter": "python",
   "pygments_lexer": "ipython3",
   "version": "3.7.1"
  }
 },
 "nbformat": 4,
 "nbformat_minor": 2
}
